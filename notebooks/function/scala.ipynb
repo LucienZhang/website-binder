{
 "cells": [
  {
   "cell_type": "markdown",
   "metadata": {},
   "source": [
    "## Version"
   ]
  },
  {
   "cell_type": "code",
   "execution_count": 1,
   "metadata": {},
   "outputs": [
    {
     "data": {
      "text/plain": [
       "\u001b[36mres0\u001b[39m: \u001b[32mString\u001b[39m = \u001b[32m\"version 2.13.3\"\u001b[39m"
      ]
     },
     "execution_count": 1,
     "metadata": {},
     "output_type": "execute_result"
    }
   ],
   "source": [
    "scala.util.Properties.versionString"
   ]
  },
  {
   "cell_type": "markdown",
   "metadata": {},
   "source": [
    "## Method & Function"
   ]
  },
  {
   "cell_type": "markdown",
   "metadata": {},
   "source": [
    "The definition looks like f(x) = ... in mathematics"
   ]
  },
  {
   "cell_type": "code",
   "execution_count": 2,
   "metadata": {},
   "outputs": [
    {
     "data": {
      "text/plain": [
       "defined \u001b[32mfunction\u001b[39m \u001b[36mf\u001b[39m"
      ]
     },
     "execution_count": 2,
     "metadata": {},
     "output_type": "execute_result"
    }
   ],
   "source": [
    "def f(x: Int) = x + 1"
   ]
  },
  {
   "cell_type": "code",
   "execution_count": 3,
   "metadata": {},
   "outputs": [
    {
     "name": "stdout",
     "output_type": "stream",
     "text": [
      "function called!\n",
      "1\n",
      "function called!\n",
      "1\n"
     ]
    },
    {
     "data": {
      "text/plain": [
       "defined \u001b[32mfunction\u001b[39m \u001b[36mf\u001b[39m"
      ]
     },
     "execution_count": 3,
     "metadata": {},
     "output_type": "execute_result"
    }
   ],
   "source": [
    "def f() = {\n",
    "    println(\"function called!\")\n",
    "    1\n",
    "}\n",
    "\n",
    "println(f)\n",
    "println(f())"
   ]
  },
  {
   "cell_type": "code",
   "execution_count": 4,
   "metadata": {},
   "outputs": [
    {
     "name": "stdout",
     "output_type": "stream",
     "text": [
      "function called!\n",
      "1\n"
     ]
    },
    {
     "data": {
      "text/plain": [
       "defined \u001b[32mfunction\u001b[39m \u001b[36mf\u001b[39m"
      ]
     },
     "execution_count": 4,
     "metadata": {},
     "output_type": "execute_result"
    }
   ],
   "source": [
    "def f = {\n",
    "    println(\"function called!\")\n",
    "    1\n",
    "}\n",
    "\n",
    "println(f)\n",
    "// println(f()) Compilation Failed"
   ]
  },
  {
   "cell_type": "code",
   "execution_count": 5,
   "metadata": {},
   "outputs": [
    {
     "name": "stdout",
     "output_type": "stream",
     "text": [
      "3\n",
      "6\n",
      "2\n",
      "3\n",
      "Hello!\n"
     ]
    },
    {
     "data": {
      "text/html": [
       "<div class=\"jp-RenderedText\">\n",
       "<pre><code>defined <span style=\"color: rgb(0, 187, 0)\"><span class=\"ansi-green-fg\">class</span></span> <span style=\"color: rgb(0, 187, 187)\"><span class=\"ansi-cyan-fg\">Test</span></span>\n",
       "<span style=\"color: rgb(0, 187, 187)\"><span class=\"ansi-cyan-fg\">t</span></span>: <span style=\"color: rgb(0, 187, 0)\"><span class=\"ansi-green-fg\">Test</span></span> = ammonite.$sess.cmd4$Helper$Test@7a7ea09</code></pre>\n",
       "</div>"
      ],
      "text/plain": [
       "defined \u001b[32mclass\u001b[39m \u001b[36mTest\u001b[39m\n",
       "\u001b[36mt\u001b[39m: \u001b[32mTest\u001b[39m = ammonite.$sess.cmd4$Helper$Test@7a7ea09"
      ]
     },
     "metadata": {},
     "output_type": "display_data"
    }
   ],
   "source": [
    "class Test{\n",
    "    def add(a: Int, b: Int) = a + b\n",
    "    def mul(a: Int, b: Int): Int = {\n",
    "        return a * b\n",
    "    }\n",
    "    def minus(a: Int, b: Int) = {\n",
    "        var res = a - b\n",
    "        res\n",
    "    }\n",
    "    def printSum(a: Int, b: Int): Unit = {\n",
    "        println(a + b)\n",
    "    }\n",
    "    def printHello(){\n",
    "        println(\"Hello!\")\n",
    "    }\n",
    "}\n",
    "var t = new Test()\n",
    "println(t.add(1, 2))\n",
    "println(t.mul(2, 3))\n",
    "println(t.minus(5, 3))\n",
    "t.printSum(1, 2)\n",
    "t.printHello()"
   ]
  },
  {
   "cell_type": "code",
   "execution_count": 6,
   "metadata": {},
   "outputs": [
    {
     "data": {
      "text/plain": [
       "defined \u001b[32mfunction\u001b[39m \u001b[36mfunc1\u001b[39m\n",
       "defined \u001b[32mfunction\u001b[39m \u001b[36mfunc2\u001b[39m\n",
       "\u001b[36mres5_2\u001b[39m: \u001b[32mInt\u001b[39m = \u001b[32m3\u001b[39m\n",
       "\u001b[36mres5_3\u001b[39m: \u001b[32mInt\u001b[39m = \u001b[32m3\u001b[39m"
      ]
     },
     "execution_count": 6,
     "metadata": {},
     "output_type": "execute_result"
    }
   ],
   "source": [
    "def func1(a: Int, b: Int) = a + b;\n",
    "def func2(f: (Int, Int) => Int, a:Int, b:Int) = f(a, b)\n",
    "func1(1, 2)\n",
    "func2(func1, 1, 2)"
   ]
  },
  {
   "cell_type": "code",
   "execution_count": 7,
   "metadata": {},
   "outputs": [
    {
     "data": {
      "text/plain": [
       "\u001b[36mres6\u001b[39m: (\u001b[32mInt\u001b[39m, \u001b[32mInt\u001b[39m) => \u001b[32mInt\u001b[39m = ammonite.$sess.cmd6$Helper$$Lambda$1922/142375109@79aaf60a"
      ]
     },
     "execution_count": 7,
     "metadata": {},
     "output_type": "execute_result"
    }
   ],
   "source": [
    "func1(_,_)"
   ]
  },
  {
   "cell_type": "code",
   "execution_count": 8,
   "metadata": {},
   "outputs": [
    {
     "data": {
      "text/plain": [
       "\u001b[36mres7\u001b[39m: (\u001b[32mInt\u001b[39m, \u001b[32mInt\u001b[39m) => \u001b[32mInt\u001b[39m = ammonite.$sess.cmd7$Helper$$Lambda$1928/763200328@d445ba3"
      ]
     },
     "execution_count": 8,
     "metadata": {},
     "output_type": "execute_result"
    }
   ],
   "source": [
    "func1 _"
   ]
  },
  {
   "cell_type": "code",
   "execution_count": 9,
   "metadata": {},
   "outputs": [
    {
     "data": {
      "text/plain": [
       "\u001b[36mfunc3\u001b[39m: (\u001b[32mInt\u001b[39m, \u001b[32mInt\u001b[39m) => \u001b[32mInt\u001b[39m = ammonite.$sess.cmd8$Helper$$Lambda$1933/1395244590@789a65ac"
      ]
     },
     "execution_count": 9,
     "metadata": {},
     "output_type": "execute_result"
    }
   ],
   "source": [
    "val func3: (Int, Int) => Int = func1"
   ]
  },
  {
   "cell_type": "markdown",
   "metadata": {},
   "source": [
    "## Anonymous Function"
   ]
  },
  {
   "cell_type": "markdown",
   "metadata": {},
   "source": [
    "AKA function literal. Lambda Expression refers to an expression that uses an anonymous function instead of variable or value."
   ]
  },
  {
   "cell_type": "code",
   "execution_count": 10,
   "metadata": {},
   "outputs": [
    {
     "name": "stdout",
     "output_type": "stream",
     "text": [
      "3\n"
     ]
    },
    {
     "data": {
      "text/plain": [
       "\u001b[36madd_f\u001b[39m: (\u001b[32mInt\u001b[39m, \u001b[32mInt\u001b[39m) => \u001b[32mInt\u001b[39m = ammonite.$sess.cmd9$Helper$$Lambda$1941/1596423610@3d04305b"
      ]
     },
     "execution_count": 10,
     "metadata": {},
     "output_type": "execute_result"
    }
   ],
   "source": [
    "val add_f = (a: Int, b: Int) => a + b\n",
    "println(add_f(1, 2))"
   ]
  },
  {
   "cell_type": "code",
   "execution_count": 11,
   "metadata": {},
   "outputs": [
    {
     "name": "stdout",
     "output_type": "stream",
     "text": [
      "2\n"
     ]
    },
    {
     "data": {
      "text/plain": [
       "defined \u001b[32mfunction\u001b[39m \u001b[36mapply\u001b[39m"
      ]
     },
     "execution_count": 11,
     "metadata": {},
     "output_type": "execute_result"
    }
   ],
   "source": [
    "def apply(f: Int => Int, x: Int) = f(x)\n",
    "println(apply(x => x + 1, 1))"
   ]
  },
  {
   "cell_type": "code",
   "execution_count": 12,
   "metadata": {},
   "outputs": [
    {
     "name": "stdout",
     "output_type": "stream",
     "text": [
      "3\n"
     ]
    },
    {
     "data": {
      "text/plain": [
       "\u001b[36mf\u001b[39m: (\u001b[32mInt\u001b[39m, \u001b[32mInt\u001b[39m) => \u001b[32mInt\u001b[39m = ammonite.$sess.cmd11$Helper$$Lambda$1951/1177335926@70512e37"
      ]
     },
     "execution_count": 12,
     "metadata": {},
     "output_type": "execute_result"
    }
   ],
   "source": [
    "val f = (_: Int) + (_: Int)\n",
    "println(f(1, 2))"
   ]
  },
  {
   "cell_type": "code",
   "execution_count": 13,
   "metadata": {},
   "outputs": [
    {
     "name": "stdout",
     "output_type": "stream",
     "text": [
      "3\n"
     ]
    },
    {
     "data": {
      "text/plain": [
       "\u001b[36madd\u001b[39m: \u001b[32mInt\u001b[39m => \u001b[32mInt\u001b[39m => \u001b[32mInt\u001b[39m = ammonite.$sess.cmd12$Helper$$Lambda$1974/959910301@355feded"
      ]
     },
     "execution_count": 13,
     "metadata": {},
     "output_type": "execute_result"
    }
   ],
   "source": [
    "val add = (x: Int) => {\n",
    "    (y: Int) => x + y\n",
    "}\n",
    "println(add(1)(2))"
   ]
  },
  {
   "cell_type": "markdown",
   "metadata": {},
   "source": [
    "## Function Call"
   ]
  },
  {
   "cell_type": "code",
   "execution_count": 14,
   "metadata": {},
   "outputs": [
    {
     "name": "stdout",
     "output_type": "stream",
     "text": [
      "1\n",
      "1\n"
     ]
    },
    {
     "data": {
      "text/plain": [
       "defined \u001b[32mfunction\u001b[39m \u001b[36mfunc\u001b[39m"
      ]
     },
     "execution_count": 14,
     "metadata": {},
     "output_type": "execute_result"
    }
   ],
   "source": [
    "def func(a: Int)={\n",
    "    println(a)\n",
    "}\n",
    "\n",
    "func(1)\n",
    "func{1}"
   ]
  },
  {
   "cell_type": "markdown",
   "metadata": {},
   "source": [
    "## Higher Order Function"
   ]
  },
  {
   "cell_type": "code",
   "execution_count": 15,
   "metadata": {},
   "outputs": [
    {
     "data": {
      "text/plain": [
       "defined \u001b[32mfunction\u001b[39m \u001b[36mapply\u001b[39m\n",
       "defined \u001b[32mfunction\u001b[39m \u001b[36mformat\u001b[39m\n",
       "\u001b[36mres14_2\u001b[39m: \u001b[32mString\u001b[39m = \u001b[32m\"{12.0}\"\u001b[39m"
      ]
     },
     "execution_count": 15,
     "metadata": {},
     "output_type": "execute_result"
    }
   ],
   "source": [
    "def apply(f: Double => String, x: Double) = f(x)\n",
    "def format[T](z: T) = \"{\" + z.toString() + \"}\"\n",
    "apply(format, 12)"
   ]
  },
  {
   "cell_type": "markdown",
   "metadata": {},
   "source": [
    "## Named Arguments"
   ]
  },
  {
   "cell_type": "markdown",
   "metadata": {},
   "source": [
    "If some arguments are named and others are not, the unnamed arguments must come first."
   ]
  },
  {
   "cell_type": "code",
   "execution_count": 16,
   "metadata": {},
   "outputs": [
    {
     "name": "stdout",
     "output_type": "stream",
     "text": [
      "(a,1)\n",
      "(b,2)\n",
      "(c,3)\n"
     ]
    },
    {
     "data": {
      "text/plain": [
       "defined \u001b[32mfunction\u001b[39m \u001b[36mf\u001b[39m"
      ]
     },
     "execution_count": 16,
     "metadata": {},
     "output_type": "execute_result"
    }
   ],
   "source": [
    "def f(a: Int, b: Int, c:Int) = {\n",
    "    println(\"a\", a)\n",
    "    println(\"b\", b)\n",
    "    println(\"c\", c)\n",
    "}\n",
    "f(1,c=3,b=2)"
   ]
  },
  {
   "cell_type": "markdown",
   "metadata": {},
   "source": [
    "## Closure"
   ]
  },
  {
   "cell_type": "code",
   "execution_count": 17,
   "metadata": {},
   "outputs": [
    {
     "data": {
      "text/plain": [
       "defined \u001b[32mfunction\u001b[39m \u001b[36madd_by\u001b[39m\n",
       "\u001b[36madd_by_1\u001b[39m: \u001b[32mInt\u001b[39m => \u001b[32mInt\u001b[39m = ammonite.$sess.cmd16$Helper$$Lambda$2011/524888871@779ca090\n",
       "\u001b[36mres16_2\u001b[39m: \u001b[32mInt\u001b[39m = \u001b[32m4\u001b[39m"
      ]
     },
     "execution_count": 17,
     "metadata": {},
     "output_type": "execute_result"
    }
   ],
   "source": [
    "def add_by(x: Int) = (y: Int) => x + y\n",
    "val add_by_1 = add_by(1)\n",
    "add_by_1(3)"
   ]
  },
  {
   "cell_type": "markdown",
   "metadata": {},
   "source": [
    "## Nested Function"
   ]
  },
  {
   "cell_type": "code",
   "execution_count": 18,
   "metadata": {},
   "outputs": [
    {
     "data": {
      "text/plain": [
       "defined \u001b[32mfunction\u001b[39m \u001b[36mcal\u001b[39m\n",
       "\u001b[36mres17_1\u001b[39m: \u001b[32mInt\u001b[39m = \u001b[32m9\u001b[39m"
      ]
     },
     "execution_count": 18,
     "metadata": {},
     "output_type": "execute_result"
    }
   ],
   "source": [
    "def cal() = {\n",
    "    def func(x: Int) = x + 1\n",
    "    5 + func(3)\n",
    "}\n",
    "cal"
   ]
  },
  {
   "cell_type": "markdown",
   "metadata": {},
   "source": [
    "## Recursion & Tail Recursion"
   ]
  },
  {
   "cell_type": "code",
   "execution_count": 19,
   "metadata": {},
   "outputs": [
    {
     "data": {
      "text/plain": [
       "defined \u001b[32mfunction\u001b[39m \u001b[36msum\u001b[39m\n",
       "\u001b[36mres18_1\u001b[39m: \u001b[32mInt\u001b[39m = \u001b[32m1540\u001b[39m"
      ]
     },
     "execution_count": 19,
     "metadata": {},
     "output_type": "execute_result"
    }
   ],
   "source": [
    "// Recursion but not tail recursion\n",
    "def sum(n: Int): Int = {\n",
    "    if(n==0){\n",
    "        return 0\n",
    "    }else{\n",
    "        return sum(n-1) + n\n",
    "    }\n",
    "}\n",
    "sum(55)"
   ]
  },
  {
   "cell_type": "code",
   "execution_count": 20,
   "metadata": {},
   "outputs": [
    {
     "data": {
      "text/plain": [
       "defined \u001b[32mfunction\u001b[39m \u001b[36msum\u001b[39m\n",
       "\u001b[36mres19_1\u001b[39m: \u001b[32mInt\u001b[39m = \u001b[32m1540\u001b[39m"
      ]
     },
     "execution_count": 20,
     "metadata": {},
     "output_type": "execute_result"
    }
   ],
   "source": [
    "// Unoptimized tail recursion\n",
    "def sum(acc: Int, n: Int): Int = {\n",
    "    if(n==0){\n",
    "        return acc\n",
    "    }else{\n",
    "        return sum(acc + n, n - 1)\n",
    "    }\n",
    "}\n",
    "sum(0, 55)"
   ]
  },
  {
   "cell_type": "code",
   "execution_count": 21,
   "metadata": {},
   "outputs": [
    {
     "data": {
      "text/plain": [
       "\u001b[32mimport \u001b[39m\u001b[36mscala.annotation.tailrec\n",
       "\n",
       "\u001b[39m\n",
       "defined \u001b[32mfunction\u001b[39m \u001b[36msum\u001b[39m\n",
       "\u001b[36mres20_2\u001b[39m: \u001b[32mInt\u001b[39m = \u001b[32m1540\u001b[39m"
      ]
     },
     "execution_count": 21,
     "metadata": {},
     "output_type": "execute_result"
    }
   ],
   "source": [
    "// Optimized tail recursion\n",
    "import scala.annotation.tailrec\n",
    "\n",
    "@tailrec\n",
    "def sum(acc: Int, n: Int): Int = {\n",
    "    if(n==0){\n",
    "        return acc\n",
    "    }else{\n",
    "        return sum(acc + n, n - 1)\n",
    "    }\n",
    "}\n",
    "sum(0, 55)"
   ]
  },
  {
   "cell_type": "markdown",
   "metadata": {},
   "source": [
    "## Variable Length Argument"
   ]
  },
  {
   "cell_type": "markdown",
   "metadata": {},
   "source": [
    "Variable lenght argument must come last. Inside function, the variable length argument `Datatype*` is actually saved as `Array[Datatype]`"
   ]
  },
  {
   "cell_type": "code",
   "execution_count": 22,
   "metadata": {},
   "outputs": [
    {
     "name": "stdout",
     "output_type": "stream",
     "text": [
      "In print all\n",
      "2\n",
      "3\n",
      "In print all\n",
      "In print all\n",
      "1\n",
      "2\n",
      "3\n"
     ]
    },
    {
     "data": {
      "text/plain": [
       "defined \u001b[32mfunction\u001b[39m \u001b[36mprint_all\u001b[39m"
      ]
     },
     "execution_count": 22,
     "metadata": {},
     "output_type": "execute_result"
    }
   ],
   "source": [
    "def print_all(i: Int, args: Int*) = {\n",
    "    println(\"In print all\")\n",
    "    for(i <- args){\n",
    "        println(i)\n",
    "    }\n",
    "}\n",
    "print_all(1, 2, 3)\n",
    "print_all(1)\n",
    "print_all(1, Array(1,2,3):_*)"
   ]
  },
  {
   "cell_type": "markdown",
   "metadata": {},
   "source": [
    "## Default Parameter Values"
   ]
  },
  {
   "cell_type": "markdown",
   "metadata": {},
   "source": [
    "You cannot have variable length argument and default parameter values at the same method"
   ]
  },
  {
   "cell_type": "code",
   "execution_count": 23,
   "metadata": {},
   "outputs": [
    {
     "name": "stdout",
     "output_type": "stream",
     "text": [
      "(a b c,1,2,5)\n"
     ]
    },
    {
     "data": {
      "text/plain": [
       "defined \u001b[32mfunction\u001b[39m \u001b[36mf\u001b[39m"
      ]
     },
     "execution_count": 23,
     "metadata": {},
     "output_type": "execute_result"
    }
   ],
   "source": [
    "def f(a: Int, b: Int = 2, c: Int = 3){\n",
    "    println(\"a b c\", a, b, c)\n",
    "}\n",
    "f(1, c=5)"
   ]
  },
  {
   "cell_type": "markdown",
   "metadata": {},
   "source": [
    "## Call-by-Name"
   ]
  },
  {
   "cell_type": "code",
   "execution_count": 24,
   "metadata": {},
   "outputs": [
    {
     "name": "stdout",
     "output_type": "stream",
     "text": [
      "Test function by value\n",
      "In func\n",
      "By value\n",
      "(By value,1)\n",
      "Test function by name\n",
      "By name\n",
      "In func\n",
      "In func\n",
      "In func\n",
      "1\n",
      "Test function by name again\n",
      "By name\n",
      "In func\n",
      "In func\n",
      "In func\n",
      "1\n"
     ]
    },
    {
     "data": {
      "text/plain": [
       "defined \u001b[32mfunction\u001b[39m \u001b[36mfunc\u001b[39m\n",
       "defined \u001b[32mfunction\u001b[39m \u001b[36mby_value\u001b[39m\n",
       "defined \u001b[32mfunction\u001b[39m \u001b[36mby_name\u001b[39m"
      ]
     },
     "execution_count": 24,
     "metadata": {},
     "output_type": "execute_result"
    }
   ],
   "source": [
    "def func() = {\n",
    "    println(\"In func\")\n",
    "    1\n",
    "}\n",
    "\n",
    "def by_value(a:Int){\n",
    "    println(\"By value\")\n",
    "    a\n",
    "    a\n",
    "    println(\"By value\", a)\n",
    "}\n",
    "\n",
    "println(\"Test function by value\")\n",
    "by_value(func())\n",
    "\n",
    "def by_name(a: => Int){\n",
    "    println(\"By name\")\n",
    "    a\n",
    "    a\n",
    "    println(a)\n",
    "}\n",
    "\n",
    "println(\"Test function by name\")\n",
    "by_name(func())\n",
    "println(\"Test function by name again\")\n",
    "by_name(func)"
   ]
  },
  {
   "cell_type": "markdown",
   "metadata": {},
   "source": [
    "Here, essentially, a is METHOD with empty argument list, and using method name is just calling this method without parentheses. Note, it's different from passing function as a parameter shown below. In below example, a is a FUNCTION with empty argument list. The name of the function stands for the function per se, and you can only call it by appending parentheses. Passing a method to a method/function that takes function as argument will apply automatic ETA expansion (converting methods to functions)."
   ]
  },
  {
   "cell_type": "code",
   "execution_count": 25,
   "metadata": {},
   "outputs": [
    {
     "name": "stdout",
     "output_type": "stream",
     "text": [
      "Pass function\n",
      "In func\n",
      "ammonite.$sess.cmd24$Helper$$Lambda$2095/1681480655@af02fe1\n",
      "In func\n",
      "1\n"
     ]
    },
    {
     "data": {
      "text/plain": [
       "defined \u001b[32mfunction\u001b[39m \u001b[36mpass_func\u001b[39m"
      ]
     },
     "execution_count": 25,
     "metadata": {},
     "output_type": "execute_result"
    }
   ],
   "source": [
    "def pass_func(a: ()=>Int){\n",
    "    println(\"Pass function\")\n",
    "    a\n",
    "    a()\n",
    "    println(a)\n",
    "    println(a())\n",
    "}\n",
    "\n",
    "pass_func(func)"
   ]
  },
  {
   "cell_type": "markdown",
   "metadata": {},
   "source": [
    "## Currying"
   ]
  },
  {
   "cell_type": "code",
   "execution_count": 26,
   "metadata": {},
   "outputs": [
    {
     "data": {
      "text/plain": [
       "defined \u001b[32mfunction\u001b[39m \u001b[36madd\u001b[39m\n",
       "\u001b[36mres25_1\u001b[39m: \u001b[32mInt\u001b[39m = \u001b[32m3\u001b[39m"
      ]
     },
     "execution_count": 26,
     "metadata": {},
     "output_type": "execute_result"
    }
   ],
   "source": [
    "def add(a:Int, b:Int) = a + b\n",
    "add(1, 2)"
   ]
  },
  {
   "cell_type": "code",
   "execution_count": 27,
   "metadata": {},
   "outputs": [
    {
     "data": {
      "text/plain": [
       "defined \u001b[32mfunction\u001b[39m \u001b[36madd\u001b[39m\n",
       "\u001b[36mres26_1\u001b[39m: \u001b[32mInt\u001b[39m = \u001b[32m3\u001b[39m"
      ]
     },
     "execution_count": 27,
     "metadata": {},
     "output_type": "execute_result"
    }
   ],
   "source": [
    "def add(a:Int)(b:Int) = a + b\n",
    "add(1)(2)"
   ]
  },
  {
   "cell_type": "code",
   "execution_count": 28,
   "metadata": {},
   "outputs": [
    {
     "data": {
      "text/plain": [
       "defined \u001b[32mfunction\u001b[39m \u001b[36madd\u001b[39m\n",
       "\u001b[36mres27_1\u001b[39m: \u001b[32mInt\u001b[39m = \u001b[32m3\u001b[39m"
      ]
     },
     "execution_count": 28,
     "metadata": {},
     "output_type": "execute_result"
    }
   ],
   "source": [
    "def add(a:Int)=(b:Int)=>a+b\n",
    "add(1)(2)"
   ]
  },
  {
   "cell_type": "code",
   "execution_count": 29,
   "metadata": {},
   "outputs": [
    {
     "data": {
      "text/plain": [
       "defined \u001b[32mfunction\u001b[39m \u001b[36madd\u001b[39m\n",
       "\u001b[36mres28_1\u001b[39m: \u001b[32mInt\u001b[39m = \u001b[32m3\u001b[39m"
      ]
     },
     "execution_count": 29,
     "metadata": {},
     "output_type": "execute_result"
    }
   ],
   "source": [
    "def add(a:Int)(b:Int) = a + b\n",
    "add(1){2}"
   ]
  },
  {
   "cell_type": "code",
   "execution_count": 30,
   "metadata": {},
   "outputs": [
    {
     "data": {
      "text/plain": [
       "defined \u001b[32mfunction\u001b[39m \u001b[36madd\u001b[39m\n",
       "\u001b[36madd_1\u001b[39m: \u001b[32mInt\u001b[39m => \u001b[32mInt\u001b[39m = ammonite.$sess.cmd29$Helper$$Lambda$2107/214444315@66dcb0cf\n",
       "\u001b[36mres29_2\u001b[39m: \u001b[32mInt\u001b[39m = \u001b[32m3\u001b[39m"
      ]
     },
     "execution_count": 30,
     "metadata": {},
     "output_type": "execute_result"
    }
   ],
   "source": [
    "def add(a:Int)(b:Int) = a + b\n",
    "val add_1 = add(1) _\n",
    "add_1(2)"
   ]
  },
  {
   "cell_type": "markdown",
   "metadata": {},
   "source": [
    "## Partially Applied Function"
   ]
  },
  {
   "cell_type": "code",
   "execution_count": 31,
   "metadata": {},
   "outputs": [
    {
     "name": "stdout",
     "output_type": "stream",
     "text": [
      "6\n"
     ]
    },
    {
     "data": {
      "text/plain": [
       "defined \u001b[32mfunction\u001b[39m \u001b[36madd\u001b[39m\n",
       "\u001b[36madd_1\u001b[39m: \u001b[32mInt\u001b[39m => \u001b[32mInt\u001b[39m = ammonite.$sess.cmd30$Helper$$Lambda$2113/677733979@480c0c32"
      ]
     },
     "execution_count": 31,
     "metadata": {},
     "output_type": "execute_result"
    }
   ],
   "source": [
    "def add(a:Int, b:Int) = a + b\n",
    "val add_1 = add(1, _)\n",
    "println(add_1(5))"
   ]
  },
  {
   "cell_type": "code",
   "execution_count": 32,
   "metadata": {},
   "outputs": [
    {
     "data": {
      "text/plain": [
       "defined \u001b[32mfunction\u001b[39m \u001b[36madd\u001b[39m\n",
       "\u001b[36madd_f\u001b[39m: (\u001b[32mInt\u001b[39m, \u001b[32mInt\u001b[39m) => \u001b[32mInt\u001b[39m = ammonite.$sess.cmd31$Helper$$Lambda$2119/1160651240@5eda6e3a"
      ]
     },
     "execution_count": 32,
     "metadata": {},
     "output_type": "execute_result"
    }
   ],
   "source": [
    "def add(a:Int, b:Int) = a + b\n",
    "val add_f = add(_, _)"
   ]
  },
  {
   "cell_type": "code",
   "execution_count": 33,
   "metadata": {},
   "outputs": [
    {
     "data": {
      "text/plain": [
       "defined \u001b[32mfunction\u001b[39m \u001b[36madd\u001b[39m\n",
       "\u001b[36madd_f\u001b[39m: (\u001b[32mInt\u001b[39m, \u001b[32mInt\u001b[39m) => \u001b[32mInt\u001b[39m = ammonite.$sess.cmd32$Helper$$Lambda$2124/1302430023@445c8d46"
      ]
     },
     "execution_count": 33,
     "metadata": {},
     "output_type": "execute_result"
    }
   ],
   "source": [
    "def add(a:Int, b:Int) = a + b\n",
    "val add_f = add _"
   ]
  },
  {
   "cell_type": "markdown",
   "metadata": {},
   "source": [
    "## Partial Function"
   ]
  },
  {
   "cell_type": "markdown",
   "metadata": {},
   "source": [
    "https://www.geeksforgeeks.org/partial-functions-in-scala/"
   ]
  },
  {
   "cell_type": "markdown",
   "metadata": {},
   "source": [
    "## Implicit Parameters"
   ]
  },
  {
   "cell_type": "markdown",
   "metadata": {},
   "source": [
    "https://www.geeksforgeeks.org/implicit-parameters-in-scala/"
   ]
  },
  {
   "cell_type": "markdown",
   "metadata": {},
   "source": [
    "## Constructors"
   ]
  },
  {
   "cell_type": "markdown",
   "metadata": {},
   "source": [
    "https://www.geeksforgeeks.org/scala-constructors/"
   ]
  }
 ],
 "metadata": {
  "kernelspec": {
   "display_name": "Scala",
   "language": "scala",
   "name": "scala"
  },
  "language_info": {
   "codemirror_mode": "text/x-scala",
   "file_extension": ".sc",
   "mimetype": "text/x-scala",
   "name": "scala",
   "nbconvert_exporter": "script",
   "version": "2.13.3"
  }
 },
 "nbformat": 4,
 "nbformat_minor": 4
}
