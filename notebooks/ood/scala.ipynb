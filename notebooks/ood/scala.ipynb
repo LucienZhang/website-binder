{
 "cells": [
  {
   "cell_type": "markdown",
   "metadata": {},
   "source": [
    "## Version"
   ]
  },
  {
   "cell_type": "code",
   "execution_count": 1,
   "metadata": {},
   "outputs": [
    {
     "data": {
      "text/plain": [
       "\u001b[36mres0\u001b[39m: \u001b[32mString\u001b[39m = \u001b[32m\"version 2.13.3\"\u001b[39m"
      ]
     },
     "execution_count": 1,
     "metadata": {},
     "output_type": "execute_result"
    }
   ],
   "source": [
    "scala.util.Properties.versionString"
   ]
  },
  {
   "cell_type": "markdown",
   "metadata": {},
   "source": [
    "## Class\n",
    "Default as public"
   ]
  },
  {
   "cell_type": "code",
   "execution_count": 2,
   "metadata": {},
   "outputs": [
    {
     "name": "stdout",
     "output_type": "stream",
     "text": [
      "Age = 16, Name = Peter, Gender = M\n",
      "Age = 16, Name = Peter, Gender = M\n",
      "16\n",
      "Peter\n",
      "17\n"
     ]
    },
    {
     "data": {
      "text/html": [
       "<div class=\"jp-RenderedText\">\n",
       "<pre><code>defined <span style=\"color: rgb(0, 187, 0)\"><span class=\"ansi-green-fg\">class</span></span> <span style=\"color: rgb(0, 187, 187)\"><span class=\"ansi-cyan-fg\">Student</span></span>\n",
       "<span style=\"color: rgb(0, 187, 187)\"><span class=\"ansi-cyan-fg\">s</span></span>: <span style=\"color: rgb(0, 187, 0)\"><span class=\"ansi-green-fg\">Student</span></span> = ammonite.$sess.cmd1$Helper$Student@121069a5\n",
       "<span style=\"color: rgb(0, 187, 187)\"><span class=\"ansi-cyan-fg\">s2</span></span>: <span style=\"color: rgb(0, 187, 0)\"><span class=\"ansi-green-fg\">Student</span></span> = ammonite.$sess.cmd1$Helper$Student@790a960a</code></pre>\n",
       "</div>"
      ],
      "text/plain": [
       "defined \u001b[32mclass\u001b[39m \u001b[36mStudent\u001b[39m\n",
       "\u001b[36ms\u001b[39m: \u001b[32mStudent\u001b[39m = ammonite.$sess.cmd1$Helper$Student@121069a5\n",
       "\u001b[36ms2\u001b[39m: \u001b[32mStudent\u001b[39m = ammonite.$sess.cmd1$Helper$Student@790a960a"
      ]
     },
     "metadata": {},
     "output_type": "display_data"
    }
   ],
   "source": [
    "class Student{\n",
    "    var age = 16\n",
    "    val name = \"Peter\"\n",
    "    private[this] val gender = 'M'\n",
    "    \n",
    "    def display(){\n",
    "        println(s\"Age = $age, Name = $name, Gender = $gender\")\n",
    "    }\n",
    "}\n",
    "var s = new Student\n",
    "val s2 = new Student()\n",
    "s.display()\n",
    "s2.display\n",
    "\n",
    "println(s.age)\n",
    "println(s.name)\n",
    "s.age = 17\n",
    "println(s.age)"
   ]
  },
  {
   "cell_type": "code",
   "execution_count": 3,
   "metadata": {},
   "outputs": [
    {
     "name": "stdout",
     "output_type": "stream",
     "text": [
      "Age = 16, Name = Peter, Gender = M\n",
      "Getting name\n",
      "Peter\n",
      "Setting name\n",
      "Age = 16, Name = Bob, Gender = M\n"
     ]
    },
    {
     "data": {
      "text/html": [
       "<div class=\"jp-RenderedText\">\n",
       "<pre><code>defined <span style=\"color: rgb(0, 187, 0)\"><span class=\"ansi-green-fg\">class</span></span> <span style=\"color: rgb(0, 187, 187)\"><span class=\"ansi-cyan-fg\">Student</span></span>\n",
       "<span style=\"color: rgb(0, 187, 187)\"><span class=\"ansi-cyan-fg\">s</span></span>: <span style=\"color: rgb(0, 187, 0)\"><span class=\"ansi-green-fg\">Student</span></span> = ammonite.$sess.cmd2$Helper$Student@67a3215</code></pre>\n",
       "</div>"
      ],
      "text/plain": [
       "defined \u001b[32mclass\u001b[39m \u001b[36mStudent\u001b[39m\n",
       "\u001b[36ms\u001b[39m: \u001b[32mStudent\u001b[39m = ammonite.$sess.cmd2$Helper$Student@67a3215"
      ]
     },
     "metadata": {},
     "output_type": "display_data"
    }
   ],
   "source": [
    "class Student{\n",
    "    var age = 16\n",
    "    private var _name = \"Peter\"\n",
    "    private[this] val gender = 'M'\n",
    "    \n",
    "    def name = {\n",
    "        println(\"Getting name\")\n",
    "        _name\n",
    "    }\n",
    "    def name_= (newName:String) = {\n",
    "        println(\"Setting name\")\n",
    "        _name = newName\n",
    "    }\n",
    "    \n",
    "    def display(){\n",
    "        println(s\"Age = $age, Name = ${_name}, Gender = $gender\")\n",
    "    }\n",
    "}\n",
    "\n",
    "var s = new Student\n",
    "s.display\n",
    "println(s.name)\n",
    "s.name = \"Bob\"\n",
    "s.display"
   ]
  },
  {
   "cell_type": "markdown",
   "metadata": {},
   "source": [
    "## Anonymous Object"
   ]
  },
  {
   "cell_type": "code",
   "execution_count": 4,
   "metadata": {},
   "outputs": [
    {
     "name": "stdout",
     "output_type": "stream",
     "text": [
      "Student Bob is created!\n",
      "Age = 15, Name = Bob, Grade = A\n"
     ]
    },
    {
     "data": {
      "text/plain": [
       "defined \u001b[32mclass\u001b[39m \u001b[36mStudent\u001b[39m"
      ]
     },
     "execution_count": 4,
     "metadata": {},
     "output_type": "execute_result"
    }
   ],
   "source": [
    "class Student(name:String=\"Bob\", var age:Int=15, val grade:Char='A'){\n",
    "    println(s\"Student $name is created!\")\n",
    "    def display(){\n",
    "        println(s\"Age = $age, Name = $name, Grade = $grade\")\n",
    "    }\n",
    "}\n",
    "\n",
    "new Student().display"
   ]
  },
  {
   "cell_type": "markdown",
   "metadata": {},
   "source": [
    "## Construction"
   ]
  },
  {
   "cell_type": "code",
   "execution_count": 5,
   "metadata": {},
   "outputs": [
    {
     "name": "stdout",
     "output_type": "stream",
     "text": [
      "Static Block\n",
      "Declaring\n",
      "Static Block\n",
      "Declaring\n",
      "In constructor\n"
     ]
    },
    {
     "data": {
      "text/plain": [
       "defined \u001b[32mclass\u001b[39m \u001b[36mStudent\u001b[39m\n",
       "\u001b[36mres4_1\u001b[39m: \u001b[32mInt\u001b[39m = \u001b[32m10\u001b[39m\n",
       "\u001b[36mres4_2\u001b[39m: \u001b[32mInt\u001b[39m = \u001b[32m30\u001b[39m"
      ]
     },
     "execution_count": 5,
     "metadata": {},
     "output_type": "execute_result"
    }
   ],
   "source": [
    "class Student(){\n",
    "    println(\"Static Block\")\n",
    "    age = 20\n",
    "    var age:Int = {println(\"Declaring\"); 10}\n",
    "    def this(age:Int){\n",
    "        this()\n",
    "        println(\"In constructor\")\n",
    "        this.age = age\n",
    "    }\n",
    "}\n",
    "\n",
    "new Student().age\n",
    "new Student(30).age"
   ]
  },
  {
   "cell_type": "markdown",
   "metadata": {},
   "source": [
    "## Primary Constructor"
   ]
  },
  {
   "cell_type": "code",
   "execution_count": 6,
   "metadata": {},
   "outputs": [
    {
     "name": "stdout",
     "output_type": "stream",
     "text": [
      "Student Bob is created!\n",
      "Age = 15, Name = Bob, Grade = A\n",
      "15\n",
      "A\n",
      "17\n"
     ]
    },
    {
     "data": {
      "text/html": [
       "<div class=\"jp-RenderedText\">\n",
       "<pre><code>defined <span style=\"color: rgb(0, 187, 0)\"><span class=\"ansi-green-fg\">class</span></span> <span style=\"color: rgb(0, 187, 187)\"><span class=\"ansi-cyan-fg\">Student</span></span>\n",
       "<span style=\"color: rgb(0, 187, 187)\"><span class=\"ansi-cyan-fg\">s</span></span>: <span style=\"color: rgb(0, 187, 0)\"><span class=\"ansi-green-fg\">Student</span></span> = ammonite.$sess.cmd5$Helper$Student@622804c6</code></pre>\n",
       "</div>"
      ],
      "text/plain": [
       "defined \u001b[32mclass\u001b[39m \u001b[36mStudent\u001b[39m\n",
       "\u001b[36ms\u001b[39m: \u001b[32mStudent\u001b[39m = ammonite.$sess.cmd5$Helper$Student@622804c6"
      ]
     },
     "metadata": {},
     "output_type": "display_data"
    }
   ],
   "source": [
    "class Student(name:String, var age:Int, val grade:Char){\n",
    "    println(s\"Student $name is created!\")\n",
    "    def display(){\n",
    "        println(s\"Age = $age, Name = $name, Grade = $grade\")\n",
    "    }\n",
    "}\n",
    "\n",
    "var s = new Student(\"Bob\", 15, 'A')\n",
    "s.display\n",
    "\n",
    "// s.name raises a Compilation Error\n",
    "println(s.age)\n",
    "println(s.grade)\n",
    "s.age = 17\n",
    "println(s.age)\n",
    "// s.grade = 'B' raises a Compilation Error"
   ]
  },
  {
   "cell_type": "code",
   "execution_count": 7,
   "metadata": {},
   "outputs": [
    {
     "name": "stdout",
     "output_type": "stream",
     "text": [
      "15, 15, 15, 15\n",
      "15\n",
      "15, 16, 15, 15\n"
     ]
    },
    {
     "data": {
      "text/html": [
       "<div class=\"jp-RenderedText\">\n",
       "<pre><code>defined <span style=\"color: rgb(0, 187, 0)\"><span class=\"ansi-green-fg\">class</span></span> <span style=\"color: rgb(0, 187, 187)\"><span class=\"ansi-cyan-fg\">Student</span></span>\n",
       "<span style=\"color: rgb(0, 187, 187)\"><span class=\"ansi-cyan-fg\">s</span></span>: <span style=\"color: rgb(0, 187, 0)\"><span class=\"ansi-green-fg\">Student</span></span> = ammonite.$sess.cmd6$Helper$Student@78f8800f</code></pre>\n",
       "</div>"
      ],
      "text/plain": [
       "defined \u001b[32mclass\u001b[39m \u001b[36mStudent\u001b[39m\n",
       "\u001b[36ms\u001b[39m: \u001b[32mStudent\u001b[39m = ammonite.$sess.cmd6$Helper$Student@78f8800f"
      ]
     },
     "metadata": {},
     "output_type": "display_data"
    }
   ],
   "source": [
    "class Student(var age:Int){\n",
    "    var var_age = age\n",
    "    val val_age = age\n",
    "    private[this] var private_age = age\n",
    "    def display(){\n",
    "        println(s\"$age, $var_age, $val_age, $private_age\")\n",
    "    }\n",
    "}\n",
    "\n",
    "var s = new Student(15)\n",
    "s.display\n",
    "s.var_age = 16\n",
    "println(s.val_age)\n",
    "s.display"
   ]
  },
  {
   "cell_type": "markdown",
   "metadata": {},
   "source": [
    "## Auxiliary Constructor"
   ]
  },
  {
   "cell_type": "code",
   "execution_count": 8,
   "metadata": {},
   "outputs": [
    {
     "name": "stdout",
     "output_type": "stream",
     "text": [
      "This is the primary code block\n",
      "Age = 15, Name = Peter, Grade = \u0000, School = null\n",
      "This is the primary code block\n",
      "Age = 16, Name = Bob, Grade = A, School = UT\n"
     ]
    },
    {
     "data": {
      "text/plain": [
       "defined \u001b[32mclass\u001b[39m \u001b[36mStudent\u001b[39m"
      ]
     },
     "execution_count": 8,
     "metadata": {},
     "output_type": "execute_result"
    }
   ],
   "source": [
    "class Student(var name:String, val age:Int){\n",
    "    println(\"This is the primary code block\")\n",
    "    var grade:Char = _\n",
    "    var school:String = _\n",
    "    \n",
    "    def this(name:String, age:Int, grade:Char){\n",
    "        this(name, age)\n",
    "        this.grade = grade\n",
    "        this.school = \"UT\"\n",
    "    }\n",
    "    \n",
    "    def display(){\n",
    "        println(s\"Age = $age, Name = $name, Grade = $grade, School = $school\")\n",
    "    }\n",
    "}\n",
    "\n",
    "new Student(\"Peter\", 15).display\n",
    "new Student(\"Bob\", 16, 'A').display"
   ]
  },
  {
   "cell_type": "markdown",
   "metadata": {},
   "source": [
    "## Inheritance"
   ]
  },
  {
   "cell_type": "code",
   "execution_count": 9,
   "metadata": {},
   "outputs": [
    {
     "name": "stdout",
     "output_type": "stream",
     "text": [
      "Person primary constructor!\n",
      "Student primary constructor\n",
      "Age = 15, Name = Peter, Grade = A, School = UT, Height = 180\n",
      "I'm Peter\n",
      "Person primary constructor!\n",
      "Student primary constructor\n",
      "Age = 16, Name = Bob, Grade = B, School = PKU, Height = 175\n",
      "I'm Bob\n"
     ]
    },
    {
     "data": {
      "text/html": [
       "<div class=\"jp-RenderedText\">\n",
       "<pre><code>defined <span style=\"color: rgb(0, 187, 0)\"><span class=\"ansi-green-fg\">class</span></span> <span style=\"color: rgb(0, 187, 187)\"><span class=\"ansi-cyan-fg\">Person</span></span>\n",
       "defined <span style=\"color: rgb(0, 187, 0)\"><span class=\"ansi-green-fg\">class</span></span> <span style=\"color: rgb(0, 187, 187)\"><span class=\"ansi-cyan-fg\">Student</span></span>\n",
       "<span style=\"color: rgb(0, 187, 187)\"><span class=\"ansi-cyan-fg\">a</span></span>: <span style=\"color: rgb(0, 187, 0)\"><span class=\"ansi-green-fg\">Student</span></span> = ammonite.$sess.cmd8$Helper$Student@3346e606\n",
       "<span style=\"color: rgb(0, 187, 187)\"><span class=\"ansi-cyan-fg\">b</span></span>: <span style=\"color: rgb(0, 187, 0)\"><span class=\"ansi-green-fg\">Student</span></span> = ammonite.$sess.cmd8$Helper$Student@18851224</code></pre>\n",
       "</div>"
      ],
      "text/plain": [
       "defined \u001b[32mclass\u001b[39m \u001b[36mPerson\u001b[39m\n",
       "defined \u001b[32mclass\u001b[39m \u001b[36mStudent\u001b[39m\n",
       "\u001b[36ma\u001b[39m: \u001b[32mStudent\u001b[39m = ammonite.$sess.cmd8$Helper$Student@3346e606\n",
       "\u001b[36mb\u001b[39m: \u001b[32mStudent\u001b[39m = ammonite.$sess.cmd8$Helper$Student@18851224"
      ]
     },
     "metadata": {},
     "output_type": "display_data"
    }
   ],
   "source": [
    "abstract class Person(val name: String, var age:Int){\n",
    "    println(\"Person primary constructor!\")\n",
    "    var height: Int = _\n",
    "    final val weight: Int = 140  // Cannot be overridden\n",
    "    def display(){\n",
    "        println(s\"Age = $age, Name = $name, Height = $height\")\n",
    "    }\n",
    "    def say()\n",
    "}\n",
    "\n",
    "class Student(override val name:String, age:Int, grade:Char) extends Person(name, age){\n",
    "    println(\"Student primary constructor\")\n",
    "    var school:String = _\n",
    "    height = 180\n",
    "    \n",
    "    def this(){\n",
    "        this(\"Peter\", 15, 'A')\n",
    "        this.school = \"UT\"\n",
    "    }\n",
    "    def this(grade:Char){\n",
    "        this(\"Bob\", 16, grade)\n",
    "        this.school = \"PKU\"\n",
    "        height = 175\n",
    "    }\n",
    "    override def display(){\n",
    "        println(s\"Age = $age, Name = $name, Grade = $grade, School = $school, Height = $height\")\n",
    "    }\n",
    "    def say(){\n",
    "        println(s\"I'm $name\")\n",
    "    }\n",
    "}\n",
    "\n",
    "var a = new Student\n",
    "a.display\n",
    "a.say\n",
    "var b = new Student('B')\n",
    "b.display\n",
    "b.say"
   ]
  },
  {
   "cell_type": "markdown",
   "metadata": {},
   "source": [
    "## Singleton"
   ]
  },
  {
   "cell_type": "code",
   "execution_count": 10,
   "metadata": {},
   "outputs": [
    {
     "name": "stdout",
     "output_type": "stream",
     "text": [
      "Hello, null\n",
      "Hello, Peter\n"
     ]
    },
    {
     "data": {
      "text/plain": [
       "defined \u001b[32mobject\u001b[39m \u001b[36mPrinter\u001b[39m"
      ]
     },
     "execution_count": 10,
     "metadata": {},
     "output_type": "execute_result"
    }
   ],
   "source": [
    "object Printer{\n",
    "    var name:String = _\n",
    "    def say = {\n",
    "        println(s\"Hello, $name\")\n",
    "    }\n",
    "}\n",
    "\n",
    "Printer.say\n",
    "Printer.name = \"Peter\"\n",
    "Printer.say"
   ]
  },
  {
   "cell_type": "markdown",
   "metadata": {},
   "source": [
    "## Companion Class & Companion Object"
   ]
  },
  {
   "cell_type": "code",
   "execution_count": 11,
   "metadata": {},
   "outputs": [
    {
     "name": "stdout",
     "output_type": "stream",
     "text": [
      "Hello\n",
      "Age = 16, Name = Peter, Gender = M, Nation = CN\n",
      "CN\n"
     ]
    },
    {
     "data": {
      "text/html": [
       "<div class=\"jp-RenderedText\">\n",
       "<pre><code>defined <span style=\"color: rgb(0, 187, 0)\"><span class=\"ansi-green-fg\">object</span></span> <span style=\"color: rgb(0, 187, 187)\"><span class=\"ansi-cyan-fg\">Student</span></span>\n",
       "defined <span style=\"color: rgb(0, 187, 0)\"><span class=\"ansi-green-fg\">class</span></span> <span style=\"color: rgb(0, 187, 187)\"><span class=\"ansi-cyan-fg\">Student</span></span>\n",
       "<span style=\"color: rgb(0, 187, 187)\"><span class=\"ansi-cyan-fg\">s</span></span>: <span style=\"color: rgb(0, 187, 0)\"><span class=\"ansi-green-fg\">Student</span></span> = ammonite.$sess.cmd10$Helper$Student@26127833</code></pre>\n",
       "</div>"
      ],
      "text/plain": [
       "defined \u001b[32mobject\u001b[39m \u001b[36mStudent\u001b[39m\n",
       "defined \u001b[32mclass\u001b[39m \u001b[36mStudent\u001b[39m\n",
       "\u001b[36ms\u001b[39m: \u001b[32mStudent\u001b[39m = ammonite.$sess.cmd10$Helper$Student@26127833"
      ]
     },
     "metadata": {},
     "output_type": "display_data"
    }
   ],
   "source": [
    "object Student{\n",
    "    final private def getNation = \"CN\"\n",
    "    def say = {\n",
    "        println(\"Hello\")\n",
    "    }\n",
    "}\n",
    "class Student{\n",
    "    var age = 16\n",
    "    val name = \"Peter\"\n",
    "    private[this] val gender = 'M'\n",
    "    val nation = Student.getNation\n",
    "    \n",
    "    def display(){\n",
    "        println(s\"Age = $age, Name = $name, Gender = $gender, Nation = $nation\")\n",
    "    }\n",
    "}\n",
    "\n",
    "Student.say\n",
    "var s = new Student()\n",
    "s.display\n",
    "println(s.nation)"
   ]
  },
  {
   "cell_type": "markdown",
   "metadata": {},
   "source": [
    "## Generic Class"
   ]
  },
  {
   "cell_type": "code",
   "execution_count": 12,
   "metadata": {},
   "outputs": [
    {
     "name": "stdout",
     "output_type": "stream",
     "text": [
      "1\n",
      "2\n"
     ]
    },
    {
     "data": {
      "text/html": [
       "<div class=\"jp-RenderedText\">\n",
       "<pre><code>defined <span style=\"color: rgb(0, 187, 0)\"><span class=\"ansi-green-fg\">class</span></span> <span style=\"color: rgb(0, 187, 187)\"><span class=\"ansi-cyan-fg\">Queue</span></span>\n",
       "<span style=\"color: rgb(0, 187, 187)\"><span class=\"ansi-cyan-fg\">e</span></span>: <span style=\"color: rgb(0, 187, 0)\"><span class=\"ansi-green-fg\">Queue</span></span>[<span style=\"color: rgb(0, 187, 0)\"><span class=\"ansi-green-fg\">Int</span></span>] = ammonite.$sess.cmd11$Helper$Queue@6e2374f2</code></pre>\n",
       "</div>"
      ],
      "text/plain": [
       "defined \u001b[32mclass\u001b[39m \u001b[36mQueue\u001b[39m\n",
       "\u001b[36me\u001b[39m: \u001b[32mQueue\u001b[39m[\u001b[32mInt\u001b[39m] = ammonite.$sess.cmd11$Helper$Queue@6e2374f2"
      ]
     },
     "metadata": {},
     "output_type": "display_data"
    }
   ],
   "source": [
    "class Queue[T <: Any](){\n",
    "    var first:T = _\n",
    "    var second:T = _\n",
    "    def add(e:T) = {\n",
    "        first = second\n",
    "        second = e\n",
    "    }\n",
    "    def peek():T = {\n",
    "        first\n",
    "    }\n",
    "}\n",
    "\n",
    "var e = new Queue[Int]()\n",
    "e.add(1)\n",
    "e.add(2)\n",
    "println(e.peek)\n",
    "e.add(3)\n",
    "println(e.peek)\n",
    "// upper type bound <:\n",
    "// lower type bound >:\n",
    "// view bound <%\n",
    "// context bound :\n",
    "// =:= <:< <%<"
   ]
  },
  {
   "cell_type": "markdown",
   "metadata": {},
   "source": [
    "## Variances"
   ]
  },
  {
   "cell_type": "code",
   "execution_count": 12,
   "metadata": {},
   "outputs": [],
   "source": [
    "// Covariance +T\n",
    "// Contravariance -T\n",
    "// Invariance T"
   ]
  },
  {
   "cell_type": "markdown",
   "metadata": {},
   "source": [
    "## Case Class"
   ]
  },
  {
   "cell_type": "markdown",
   "metadata": {},
   "source": [
    "## Mixin"
   ]
  },
  {
   "cell_type": "markdown",
   "metadata": {},
   "source": [
    "## Pattern Matching"
   ]
  },
  {
   "cell_type": "markdown",
   "metadata": {},
   "source": [
    "## Regular Expression Patterns"
   ]
  },
  {
   "cell_type": "markdown",
   "metadata": {},
   "source": [
    "## Extractor Objects"
   ]
  },
  {
   "cell_type": "markdown",
   "metadata": {},
   "source": [
    "## Trait"
   ]
  },
  {
   "cell_type": "code",
   "execution_count": null,
   "metadata": {},
   "outputs": [],
   "source": []
  }
 ],
 "metadata": {
  "kernelspec": {
   "display_name": "Scala",
   "language": "scala",
   "name": "scala"
  },
  "language_info": {
   "codemirror_mode": "text/x-scala",
   "file_extension": ".sc",
   "mimetype": "text/x-scala",
   "name": "scala",
   "nbconvert_exporter": "script",
   "version": "2.13.3"
  }
 },
 "nbformat": 4,
 "nbformat_minor": 4
}
